{
 "cells": [
  {
   "cell_type": "markdown",
   "source": [
    "# Life Expectancy (WHO) Machine Learning\n",
    "\n",
    "This notebook aims to use several Machine Learning methods."
   ],
   "metadata": {
    "collapsed": false
   }
  },
  {
   "cell_type": "code",
   "execution_count": 34,
   "outputs": [],
   "source": [
    "import pandas as pd\n",
    "import numpy as np\n",
    "import seaborn as sns\n",
    "import matplotlib.pyplot as plt\n",
    "from scipy.stats import skew, kurtosis\n",
    "\n",
    "#Imputation\n",
    "from sklearn.experimental import enable_iterative_imputer\n",
    "from sklearn.impute import IterativeImputer\n",
    "from sklearn.impute import KNNImputer\n",
    "from sklearn.impute import SimpleImputer\n"
   ],
   "metadata": {
    "collapsed": false,
    "ExecuteTime": {
     "start_time": "2023-04-09T15:24:24.114463Z",
     "end_time": "2023-04-09T15:24:24.173422Z"
    }
   }
  },
  {
   "cell_type": "code",
   "execution_count": 35,
   "outputs": [],
   "source": [
    "life = pd.read_csv(\"Life Expectancy Data.csv\")"
   ],
   "metadata": {
    "collapsed": false,
    "ExecuteTime": {
     "start_time": "2023-04-09T15:24:24.122715Z",
     "end_time": "2023-04-09T15:24:24.232116Z"
    }
   }
  },
  {
   "cell_type": "code",
   "execution_count": 36,
   "outputs": [
    {
     "data": {
      "text/plain": "          Country  Year      Status  Life expectancy   Adult Mortality  \\\n0     Afghanistan  2015  Developing              65.0            263.0   \n1     Afghanistan  2014  Developing              59.9            271.0   \n2     Afghanistan  2013  Developing              59.9            268.0   \n3     Afghanistan  2012  Developing              59.5            272.0   \n4     Afghanistan  2011  Developing              59.2            275.0   \n...           ...   ...         ...               ...              ...   \n2933     Zimbabwe  2004  Developing              44.3            723.0   \n2934     Zimbabwe  2003  Developing              44.5            715.0   \n2935     Zimbabwe  2002  Developing              44.8             73.0   \n2936     Zimbabwe  2001  Developing              45.3            686.0   \n2937     Zimbabwe  2000  Developing              46.0            665.0   \n\n      infant deaths  Alcohol  percentage expenditure  Hepatitis B  Measles   \\\n0                62     0.01               71.279624         65.0      1154   \n1                64     0.01               73.523582         62.0       492   \n2                66     0.01               73.219243         64.0       430   \n3                69     0.01               78.184215         67.0      2787   \n4                71     0.01                7.097109         68.0      3013   \n...             ...      ...                     ...          ...       ...   \n2933             27     4.36                0.000000         68.0        31   \n2934             26     4.06                0.000000          7.0       998   \n2935             25     4.43                0.000000         73.0       304   \n2936             25     1.72                0.000000         76.0       529   \n2937             24     1.68                0.000000         79.0      1483   \n\n      ...  Polio  Total expenditure  Diphtheria    HIV/AIDS         GDP  \\\n0     ...    6.0               8.16         65.0        0.1  584.259210   \n1     ...   58.0               8.18         62.0        0.1  612.696514   \n2     ...   62.0               8.13         64.0        0.1  631.744976   \n3     ...   67.0               8.52         67.0        0.1  669.959000   \n4     ...   68.0               7.87         68.0        0.1   63.537231   \n...   ...    ...                ...          ...        ...         ...   \n2933  ...   67.0               7.13         65.0       33.6  454.366654   \n2934  ...    7.0               6.52         68.0       36.7  453.351155   \n2935  ...   73.0               6.53         71.0       39.8   57.348340   \n2936  ...   76.0               6.16         75.0       42.1  548.587312   \n2937  ...   78.0               7.10         78.0       43.5  547.358878   \n\n      Population   thinness  1-19 years   thinness 5-9 years  \\\n0     33736494.0                   17.2                 17.3   \n1       327582.0                   17.5                 17.5   \n2     31731688.0                   17.7                 17.7   \n3      3696958.0                   17.9                 18.0   \n4      2978599.0                   18.2                 18.2   \n...          ...                    ...                  ...   \n2933  12777511.0                    9.4                  9.4   \n2934  12633897.0                    9.8                  9.9   \n2935    125525.0                    1.2                  1.3   \n2936  12366165.0                    1.6                  1.7   \n2937  12222251.0                   11.0                 11.2   \n\n      Income composition of resources  Schooling  \n0                               0.479       10.1  \n1                               0.476       10.0  \n2                               0.470        9.9  \n3                               0.463        9.8  \n4                               0.454        9.5  \n...                               ...        ...  \n2933                            0.407        9.2  \n2934                            0.418        9.5  \n2935                            0.427       10.0  \n2936                            0.427        9.8  \n2937                            0.434        9.8  \n\n[2938 rows x 22 columns]",
      "text/html": "<div>\n<style scoped>\n    .dataframe tbody tr th:only-of-type {\n        vertical-align: middle;\n    }\n\n    .dataframe tbody tr th {\n        vertical-align: top;\n    }\n\n    .dataframe thead th {\n        text-align: right;\n    }\n</style>\n<table border=\"1\" class=\"dataframe\">\n  <thead>\n    <tr style=\"text-align: right;\">\n      <th></th>\n      <th>Country</th>\n      <th>Year</th>\n      <th>Status</th>\n      <th>Life expectancy</th>\n      <th>Adult Mortality</th>\n      <th>infant deaths</th>\n      <th>Alcohol</th>\n      <th>percentage expenditure</th>\n      <th>Hepatitis B</th>\n      <th>Measles</th>\n      <th>...</th>\n      <th>Polio</th>\n      <th>Total expenditure</th>\n      <th>Diphtheria</th>\n      <th>HIV/AIDS</th>\n      <th>GDP</th>\n      <th>Population</th>\n      <th>thinness  1-19 years</th>\n      <th>thinness 5-9 years</th>\n      <th>Income composition of resources</th>\n      <th>Schooling</th>\n    </tr>\n  </thead>\n  <tbody>\n    <tr>\n      <th>0</th>\n      <td>Afghanistan</td>\n      <td>2015</td>\n      <td>Developing</td>\n      <td>65.0</td>\n      <td>263.0</td>\n      <td>62</td>\n      <td>0.01</td>\n      <td>71.279624</td>\n      <td>65.0</td>\n      <td>1154</td>\n      <td>...</td>\n      <td>6.0</td>\n      <td>8.16</td>\n      <td>65.0</td>\n      <td>0.1</td>\n      <td>584.259210</td>\n      <td>33736494.0</td>\n      <td>17.2</td>\n      <td>17.3</td>\n      <td>0.479</td>\n      <td>10.1</td>\n    </tr>\n    <tr>\n      <th>1</th>\n      <td>Afghanistan</td>\n      <td>2014</td>\n      <td>Developing</td>\n      <td>59.9</td>\n      <td>271.0</td>\n      <td>64</td>\n      <td>0.01</td>\n      <td>73.523582</td>\n      <td>62.0</td>\n      <td>492</td>\n      <td>...</td>\n      <td>58.0</td>\n      <td>8.18</td>\n      <td>62.0</td>\n      <td>0.1</td>\n      <td>612.696514</td>\n      <td>327582.0</td>\n      <td>17.5</td>\n      <td>17.5</td>\n      <td>0.476</td>\n      <td>10.0</td>\n    </tr>\n    <tr>\n      <th>2</th>\n      <td>Afghanistan</td>\n      <td>2013</td>\n      <td>Developing</td>\n      <td>59.9</td>\n      <td>268.0</td>\n      <td>66</td>\n      <td>0.01</td>\n      <td>73.219243</td>\n      <td>64.0</td>\n      <td>430</td>\n      <td>...</td>\n      <td>62.0</td>\n      <td>8.13</td>\n      <td>64.0</td>\n      <td>0.1</td>\n      <td>631.744976</td>\n      <td>31731688.0</td>\n      <td>17.7</td>\n      <td>17.7</td>\n      <td>0.470</td>\n      <td>9.9</td>\n    </tr>\n    <tr>\n      <th>3</th>\n      <td>Afghanistan</td>\n      <td>2012</td>\n      <td>Developing</td>\n      <td>59.5</td>\n      <td>272.0</td>\n      <td>69</td>\n      <td>0.01</td>\n      <td>78.184215</td>\n      <td>67.0</td>\n      <td>2787</td>\n      <td>...</td>\n      <td>67.0</td>\n      <td>8.52</td>\n      <td>67.0</td>\n      <td>0.1</td>\n      <td>669.959000</td>\n      <td>3696958.0</td>\n      <td>17.9</td>\n      <td>18.0</td>\n      <td>0.463</td>\n      <td>9.8</td>\n    </tr>\n    <tr>\n      <th>4</th>\n      <td>Afghanistan</td>\n      <td>2011</td>\n      <td>Developing</td>\n      <td>59.2</td>\n      <td>275.0</td>\n      <td>71</td>\n      <td>0.01</td>\n      <td>7.097109</td>\n      <td>68.0</td>\n      <td>3013</td>\n      <td>...</td>\n      <td>68.0</td>\n      <td>7.87</td>\n      <td>68.0</td>\n      <td>0.1</td>\n      <td>63.537231</td>\n      <td>2978599.0</td>\n      <td>18.2</td>\n      <td>18.2</td>\n      <td>0.454</td>\n      <td>9.5</td>\n    </tr>\n    <tr>\n      <th>...</th>\n      <td>...</td>\n      <td>...</td>\n      <td>...</td>\n      <td>...</td>\n      <td>...</td>\n      <td>...</td>\n      <td>...</td>\n      <td>...</td>\n      <td>...</td>\n      <td>...</td>\n      <td>...</td>\n      <td>...</td>\n      <td>...</td>\n      <td>...</td>\n      <td>...</td>\n      <td>...</td>\n      <td>...</td>\n      <td>...</td>\n      <td>...</td>\n      <td>...</td>\n      <td>...</td>\n    </tr>\n    <tr>\n      <th>2933</th>\n      <td>Zimbabwe</td>\n      <td>2004</td>\n      <td>Developing</td>\n      <td>44.3</td>\n      <td>723.0</td>\n      <td>27</td>\n      <td>4.36</td>\n      <td>0.000000</td>\n      <td>68.0</td>\n      <td>31</td>\n      <td>...</td>\n      <td>67.0</td>\n      <td>7.13</td>\n      <td>65.0</td>\n      <td>33.6</td>\n      <td>454.366654</td>\n      <td>12777511.0</td>\n      <td>9.4</td>\n      <td>9.4</td>\n      <td>0.407</td>\n      <td>9.2</td>\n    </tr>\n    <tr>\n      <th>2934</th>\n      <td>Zimbabwe</td>\n      <td>2003</td>\n      <td>Developing</td>\n      <td>44.5</td>\n      <td>715.0</td>\n      <td>26</td>\n      <td>4.06</td>\n      <td>0.000000</td>\n      <td>7.0</td>\n      <td>998</td>\n      <td>...</td>\n      <td>7.0</td>\n      <td>6.52</td>\n      <td>68.0</td>\n      <td>36.7</td>\n      <td>453.351155</td>\n      <td>12633897.0</td>\n      <td>9.8</td>\n      <td>9.9</td>\n      <td>0.418</td>\n      <td>9.5</td>\n    </tr>\n    <tr>\n      <th>2935</th>\n      <td>Zimbabwe</td>\n      <td>2002</td>\n      <td>Developing</td>\n      <td>44.8</td>\n      <td>73.0</td>\n      <td>25</td>\n      <td>4.43</td>\n      <td>0.000000</td>\n      <td>73.0</td>\n      <td>304</td>\n      <td>...</td>\n      <td>73.0</td>\n      <td>6.53</td>\n      <td>71.0</td>\n      <td>39.8</td>\n      <td>57.348340</td>\n      <td>125525.0</td>\n      <td>1.2</td>\n      <td>1.3</td>\n      <td>0.427</td>\n      <td>10.0</td>\n    </tr>\n    <tr>\n      <th>2936</th>\n      <td>Zimbabwe</td>\n      <td>2001</td>\n      <td>Developing</td>\n      <td>45.3</td>\n      <td>686.0</td>\n      <td>25</td>\n      <td>1.72</td>\n      <td>0.000000</td>\n      <td>76.0</td>\n      <td>529</td>\n      <td>...</td>\n      <td>76.0</td>\n      <td>6.16</td>\n      <td>75.0</td>\n      <td>42.1</td>\n      <td>548.587312</td>\n      <td>12366165.0</td>\n      <td>1.6</td>\n      <td>1.7</td>\n      <td>0.427</td>\n      <td>9.8</td>\n    </tr>\n    <tr>\n      <th>2937</th>\n      <td>Zimbabwe</td>\n      <td>2000</td>\n      <td>Developing</td>\n      <td>46.0</td>\n      <td>665.0</td>\n      <td>24</td>\n      <td>1.68</td>\n      <td>0.000000</td>\n      <td>79.0</td>\n      <td>1483</td>\n      <td>...</td>\n      <td>78.0</td>\n      <td>7.10</td>\n      <td>78.0</td>\n      <td>43.5</td>\n      <td>547.358878</td>\n      <td>12222251.0</td>\n      <td>11.0</td>\n      <td>11.2</td>\n      <td>0.434</td>\n      <td>9.8</td>\n    </tr>\n  </tbody>\n</table>\n<p>2938 rows × 22 columns</p>\n</div>"
     },
     "execution_count": 36,
     "metadata": {},
     "output_type": "execute_result"
    }
   ],
   "source": [
    "life"
   ],
   "metadata": {
    "collapsed": false,
    "ExecuteTime": {
     "start_time": "2023-04-09T15:24:24.141157Z",
     "end_time": "2023-04-09T15:24:24.235461Z"
    }
   }
  },
  {
   "cell_type": "code",
   "execution_count": 37,
   "outputs": [
    {
     "name": "stdout",
     "output_type": "stream",
     "text": [
      "<class 'pandas.core.frame.DataFrame'>\n",
      "RangeIndex: 2938 entries, 0 to 2937\n",
      "Data columns (total 22 columns):\n",
      " #   Column                           Non-Null Count  Dtype  \n",
      "---  ------                           --------------  -----  \n",
      " 0   Country                          2938 non-null   object \n",
      " 1   Year                             2938 non-null   int64  \n",
      " 2   Status                           2938 non-null   object \n",
      " 3   Life expectancy                  2928 non-null   float64\n",
      " 4   Adult Mortality                  2928 non-null   float64\n",
      " 5   infant deaths                    2938 non-null   int64  \n",
      " 6   Alcohol                          2744 non-null   float64\n",
      " 7   percentage expenditure           2938 non-null   float64\n",
      " 8   Hepatitis B                      2385 non-null   float64\n",
      " 9   Measles                          2938 non-null   int64  \n",
      " 10   BMI                             2904 non-null   float64\n",
      " 11  under-five deaths                2938 non-null   int64  \n",
      " 12  Polio                            2919 non-null   float64\n",
      " 13  Total expenditure                2712 non-null   float64\n",
      " 14  Diphtheria                       2919 non-null   float64\n",
      " 15   HIV/AIDS                        2938 non-null   float64\n",
      " 16  GDP                              2490 non-null   float64\n",
      " 17  Population                       2286 non-null   float64\n",
      " 18   thinness  1-19 years            2904 non-null   float64\n",
      " 19   thinness 5-9 years              2904 non-null   float64\n",
      " 20  Income composition of resources  2771 non-null   float64\n",
      " 21  Schooling                        2775 non-null   float64\n",
      "dtypes: float64(16), int64(4), object(2)\n",
      "memory usage: 505.1+ KB\n"
     ]
    }
   ],
   "source": [
    "life.info()"
   ],
   "metadata": {
    "collapsed": false,
    "ExecuteTime": {
     "start_time": "2023-04-09T15:24:24.173422Z",
     "end_time": "2023-04-09T15:24:24.235461Z"
    }
   }
  },
  {
   "cell_type": "markdown",
   "source": [
    "There are 2938 entries with total 22 columns. 21 columns are features and the column **Life expectancy** will be handled as target columns\n",
    "\n",
    "**Country** and **Status** are two categorical features. While for **Country** it is clear that we have several unique outcomes, let's check whether we can transform **Status** to a numerical variable"
   ],
   "metadata": {
    "collapsed": false
   }
  },
  {
   "cell_type": "code",
   "execution_count": 38,
   "outputs": [
    {
     "data": {
      "text/plain": "Developing    2426\nDeveloped      512\nName: Status, dtype: int64"
     },
     "execution_count": 38,
     "metadata": {},
     "output_type": "execute_result"
    }
   ],
   "source": [
    "life.Status.value_counts()"
   ],
   "metadata": {
    "collapsed": false,
    "ExecuteTime": {
     "start_time": "2023-04-09T15:24:24.193826Z",
     "end_time": "2023-04-09T15:24:24.235461Z"
    }
   }
  },
  {
   "cell_type": "markdown",
   "source": [
    "For **Status** there are two outcomes:\n",
    "1. Developing\n",
    "2. Developed\n",
    "\n",
    "So we can replace Developing with a 0 and Developed with a 0."
   ],
   "metadata": {
    "collapsed": false
   }
  },
  {
   "cell_type": "code",
   "execution_count": 39,
   "outputs": [],
   "source": [
    "life[\"Status\"].replace([\"Developing\", \"Developed\"], [0,1], inplace=True)"
   ],
   "metadata": {
    "collapsed": false,
    "ExecuteTime": {
     "start_time": "2023-04-09T15:24:24.202351Z",
     "end_time": "2023-04-09T15:24:24.236899Z"
    }
   }
  },
  {
   "cell_type": "markdown",
   "source": [
    "Let's check for missing values."
   ],
   "metadata": {
    "collapsed": false
   }
  },
  {
   "cell_type": "code",
   "execution_count": 40,
   "outputs": [
    {
     "data": {
      "text/plain": "Country                              0\nYear                                 0\nStatus                               0\nLife expectancy                     10\nAdult Mortality                     10\ninfant deaths                        0\nAlcohol                            194\npercentage expenditure               0\nHepatitis B                        553\nMeasles                              0\n BMI                                34\nunder-five deaths                    0\nPolio                               19\nTotal expenditure                  226\nDiphtheria                          19\n HIV/AIDS                            0\nGDP                                448\nPopulation                         652\n thinness  1-19 years               34\n thinness 5-9 years                 34\nIncome composition of resources    167\nSchooling                          163\ndtype: int64"
     },
     "execution_count": 40,
     "metadata": {},
     "output_type": "execute_result"
    }
   ],
   "source": [
    "life.isna().sum()"
   ],
   "metadata": {
    "collapsed": false,
    "ExecuteTime": {
     "start_time": "2023-04-09T15:24:24.216416Z",
     "end_time": "2023-04-09T15:24:24.236899Z"
    }
   }
  },
  {
   "cell_type": "markdown",
   "source": [
    "There are 14 features with null values. Some have a lot of null values, such as popuation with 652 null values and Hepatitis B with 553 null values."
   ],
   "metadata": {
    "collapsed": false
   }
  },
  {
   "cell_type": "code",
   "execution_count": 41,
   "outputs": [],
   "source": [
    "#drop country\n",
    "life = life.drop(columns=\"Country\", axis=1, inplace=False)"
   ],
   "metadata": {
    "collapsed": false,
    "ExecuteTime": {
     "start_time": "2023-04-09T15:24:24.232116Z",
     "end_time": "2023-04-09T15:24:24.236899Z"
    }
   }
  },
  {
   "cell_type": "code",
   "execution_count": 45,
   "outputs": [],
   "source": [
    "imp_iter = IterativeImputer()\n",
    "imputed_iter = imp_iter.fit_transform(life)\n",
    "life_imp_iter = pd.DataFrame(imputed_iter, columns=life.columns)\n",
    "\n",
    "imp_iter_iterativ = IterativeImputer(max_iter=10, random_state=0)\n",
    "imputed_iter_iterativ = imp_iter_iterativ.fit_transform(life)\n",
    "life_imp_iter_iterativ = pd.DataFrame(imputed_iter_iterativ, columns=life.columns)\n",
    "\n",
    "imp_knn = KNNImputer()\n",
    "imputed_knn = imp_knn.fit_transform(life)\n",
    "life_imp_knn = pd.DataFrame(imputed_knn, columns=life.columns)\n",
    "\n",
    "imp_mean = SimpleImputer(strategy=\"mean\")\n",
    "imputed_mean = imp_mean.fit_transform(life)\n",
    "life_imp_mean = pd.DataFrame(imputed_mean, columns=life.columns)\n",
    "\n",
    "imp_median = SimpleImputer(strategy=\"median\")\n",
    "imputed_median = imp_median.fit_transform(life)\n",
    "life_imp_median = pd.DataFrame(imputed_median, columns=life.columns)\n",
    "\n"
   ],
   "metadata": {
    "collapsed": false,
    "ExecuteTime": {
     "start_time": "2023-04-09T15:26:15.227158Z",
     "end_time": "2023-04-09T15:26:16.191102Z"
    }
   }
  },
  {
   "cell_type": "code",
   "execution_count": 46,
   "outputs": [
    {
     "data": {
      "text/plain": "Year                               0\nStatus                             0\nLife expectancy                    0\nAdult Mortality                    0\ninfant deaths                      0\nAlcohol                            0\npercentage expenditure             0\nHepatitis B                        0\nMeasles                            0\n BMI                               0\nunder-five deaths                  0\nPolio                              0\nTotal expenditure                  0\nDiphtheria                         0\n HIV/AIDS                          0\nGDP                                0\nPopulation                         0\n thinness  1-19 years              0\n thinness 5-9 years                0\nIncome composition of resources    0\nSchooling                          0\ndtype: int64"
     },
     "execution_count": 46,
     "metadata": {},
     "output_type": "execute_result"
    }
   ],
   "source": [
    "life_imp_knn.isna().sum()"
   ],
   "metadata": {
    "collapsed": false,
    "ExecuteTime": {
     "start_time": "2023-04-09T15:26:31.523518Z",
     "end_time": "2023-04-09T15:26:31.531329Z"
    }
   }
  }
 ],
 "metadata": {
  "kernelspec": {
   "display_name": "Python 3",
   "language": "python",
   "name": "python3"
  },
  "language_info": {
   "codemirror_mode": {
    "name": "ipython",
    "version": 2
   },
   "file_extension": ".py",
   "mimetype": "text/x-python",
   "name": "python",
   "nbconvert_exporter": "python",
   "pygments_lexer": "ipython2",
   "version": "2.7.6"
  }
 },
 "nbformat": 4,
 "nbformat_minor": 0
}
